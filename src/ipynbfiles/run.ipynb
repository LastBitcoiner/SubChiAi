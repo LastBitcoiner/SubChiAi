{
  "nbformat": 4,
  "nbformat_minor": 0,
  "metadata": {
    "kernelspec": {
      "display_name": "Python 3",
      "language": "python",
      "name": "python3"
    },
    "language_info": {
      "codemirror_mode": {
        "name": "ipython",
        "version": 3
      },
      "file_extension": ".py",
      "mimetype": "text/x-python",
      "name": "python",
      "nbconvert_exporter": "python",
      "pygments_lexer": "ipython3",
      "version": "3.8.5"
    },
    "colab": {
      "name": "Copy of run.ipynb",
      "provenance": [],
      "collapsed_sections": [],
      "include_colab_link": true
    }
  },
  "cells": [
    {
      "cell_type": "markdown",
      "metadata": {
        "id": "view-in-github",
        "colab_type": "text"
      },
      "source": [
        "<a href=\"https://colab.research.google.com/github/LastBitcoiner/SubChiAi/blob/main/src/run.ipynb\" target=\"_parent\"><img src=\"https://colab.research.google.com/assets/colab-badge.svg\" alt=\"Open In Colab\"/></a>"
      ]
    },
    {
      "cell_type": "code",
      "metadata": {
        "id": "Mk0KmJhrmfmO"
      },
      "source": [
        "#\n",
        "#\n",
        "# TODO:\n",
        "# - read file data                TIK\n",
        "# - delete enters                 TIK\n",
        "# - read subtitle folders list\n",
        "# - split by \" \" and search in    TIK\n",
        "# - shomaresh                     TIK\n",
        "# - save dar csv     \n",
        "# - sort list by counting         TIK\n",
        "# - remove duplicate              TIK\n",
        "#\n",
        "#\n",
        "# - Optional : 1 july 2021\n",
        "# - write it to the picture for reading better or printing\n",
        "#\n",
        "#\n",
        "#"
      ],
      "execution_count": null,
      "outputs": []
    },
    {
      "cell_type": "code",
      "metadata": {
        "id": "sQHL5oQgwVoM"
      },
      "source": [
        "import csv"
      ],
      "execution_count": 52,
      "outputs": []
    },
    {
      "cell_type": "code",
      "metadata": {
        "colab": {
          "base_uri": "https://localhost:8080/"
        },
        "id": "GkYHCHLVAHsJ",
        "outputId": "722c6978-ec8a-4b7b-fa65-ef945fc3c658"
      },
      "source": [
        "# 4/1AX4XfWjgyO89bswaF-OiIEHWet7wTPljmthD6YmmhelJG6x_frolThpIxzY\n",
        "from google.colab import drive\n",
        "drive.mount('/content/drive')"
      ],
      "execution_count": 2,
      "outputs": [
        {
          "output_type": "stream",
          "text": [
            "Mounted at /content/drive\n"
          ],
          "name": "stdout"
        }
      ]
    },
    {
      "cell_type": "code",
      "metadata": {
        "id": "H-9g1ldpmfmh"
      },
      "source": [
        "# this block remove blank lines and replace enters with space\n",
        "def clean_file(filename):\n",
        "    lines = \"\"\n",
        "    with open(filename) as f:\n",
        "        for line in f:\n",
        "            if not line.strip(): continue  # skip the empty line\n",
        "            lines += line\n",
        "        return lines.replace(\"\\n\", \" \")"
      ],
      "execution_count": 10,
      "outputs": []
    },
    {
      "cell_type": "code",
      "metadata": {
        "id": "rwi3BNUTmfml"
      },
      "source": [
        "#test and track\n",
        "lines = clean_file(\"/content/drive/MyDrive/dataset.txt\")"
      ],
      "execution_count": 33,
      "outputs": []
    },
    {
      "cell_type": "code",
      "metadata": {
        "id": "8imckiPbmowM"
      },
      "source": [
        "# word filters\n",
        "\n",
        "common_prepositions = \"a the about above across after against among around at before behind below beside between by down during for from in inside into near of off on out over through to toward under up with\"\n",
        "common_prepositions = common_prepositions.split()\n",
        "\n",
        "less_comman_prepositions = \"aboard along amid as beneath beyond but concerning considering despite except following like minus next onto opposite outside past per plus regarding round save since than till underneath unlike until upon versus via within without\"\n",
        "less_comman_prepositions = less_comman_prepositions.split()\n",
        "\n",
        "full_perps = common_prepositions+less_comman_prepositions\n"
      ],
      "execution_count": 34,
      "outputs": []
    },
    {
      "cell_type": "code",
      "metadata": {
        "id": "pNzRv3KXmfmo"
      },
      "source": [
        "# define counter number of repeat every string \n",
        "def count_repeats(input_string):\n",
        "    \n",
        "    countdict = []\n",
        "    words = input_string.split() # list of words in a input string\n",
        "    for i in range(len(words)):\n",
        "    #   print(i)\n",
        "    #   print(lines.split()[i])\n",
        "        countdict.append([words[i],input_string.count(words[i])])\n",
        "\n",
        "    \n",
        "    return countdict"
      ],
      "execution_count": 35,
      "outputs": []
    },
    {
      "cell_type": "code",
      "metadata": {
        "id": "YnV7BQJQmfmq"
      },
      "source": [
        "# duplicator remover get a list for input\n",
        "words = count_repeats(lines)\n",
        "\n",
        "def remove_duplicates(wordslist):\n",
        "  res = []\n",
        "  [res.append(x) for x in words if x not in res]\n",
        "\n",
        "  return res\n",
        "\n",
        "words = remove_duplicates(words)"
      ],
      "execution_count": 46,
      "outputs": []
    },
    {
      "cell_type": "code",
      "metadata": {
        "colab": {
          "base_uri": "https://localhost:8080/"
        },
        "id": "-GOJopZKsxYT",
        "outputId": "673ab771-c200-4780-c15c-0ee78eda2154"
      },
      "source": [
        "len(words)"
      ],
      "execution_count": 47,
      "outputs": [
        {
          "output_type": "execute_result",
          "data": {
            "text/plain": [
              "674"
            ]
          },
          "metadata": {
            "tags": []
          },
          "execution_count": 47
        }
      ]
    },
    {
      "cell_type": "code",
      "metadata": {
        "id": "RmkLU9nkCLPW",
        "colab": {
          "base_uri": "https://localhost:8080/"
        },
        "outputId": "41adeb66-6200-4fcb-80dc-0c863f7f6ee0"
      },
      "source": [
        "indexwords = []\n",
        "[indexwords.append(x[0]) for x in words]\n",
        "len(indexwords)"
      ],
      "execution_count": 48,
      "outputs": [
        {
          "output_type": "execute_result",
          "data": {
            "text/plain": [
              "674"
            ]
          },
          "metadata": {
            "tags": []
          },
          "execution_count": 48
        }
      ]
    },
    {
      "cell_type": "code",
      "metadata": {
        "id": "gcc0w3i7FKN4",
        "colab": {
          "base_uri": "https://localhost:8080/"
        },
        "outputId": "d2c44edd-c69f-4a9e-f4e2-0fc5bc67d99f"
      },
      "source": [
        "# remove useless words\n",
        "junk_list = []\n",
        "\n",
        "[junk_list.append(x) for x in indexwords if \"[\" in x and \"]\" in x or len(x) < 3 or x in full_perps]\n",
        "\n",
        "print(len(words))\n",
        "[words.remove(x) for x in words if x[0] in junk_list]\n",
        "\n",
        "print(len(words))"
      ],
      "execution_count": 49,
      "outputs": [
        {
          "output_type": "stream",
          "text": [
            "674\n",
            "608\n"
          ],
          "name": "stdout"
        }
      ]
    },
    {
      "cell_type": "code",
      "metadata": {
        "id": "ChB4BI8yxCw9"
      },
      "source": [
        "# sort by repeats\n",
        "\n",
        "words.sort(key=lambda x:x[1], reverse=True)\n",
        "words"
      ],
      "execution_count": null,
      "outputs": []
    },
    {
      "cell_type": "code",
      "metadata": {
        "id": "l7btWkVqmfm3"
      },
      "source": [
        "#save results in a csv file\n",
        "\n",
        "def save_to_csv():\n",
        "  fields = ['words', 'repeats']\n",
        "\n",
        "  with open('result.csv', 'w') as f:\n",
        "      \n",
        "      # using csv.writer method from CSV package\n",
        "      write = csv.writer(f)\n",
        "        \n",
        "      write.writerow(fields)\n",
        "      write.writerows(words)"
      ],
      "execution_count": 54,
      "outputs": []
    },
    {
      "cell_type": "code",
      "metadata": {
        "id": "_w6VsXuvmfnB"
      },
      "source": [
        "save_to_csv()"
      ],
      "execution_count": 55,
      "outputs": []
    },
    {
      "cell_type": "code",
      "metadata": {
        "id": "oCOGdH23w0h0"
      },
      "source": [
        ""
      ],
      "execution_count": null,
      "outputs": []
    }
  ]
}