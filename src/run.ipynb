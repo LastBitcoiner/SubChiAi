{
  "nbformat": 4,
  "nbformat_minor": 0,
  "metadata": {
    "kernelspec": {
      "display_name": "Python 3",
      "language": "python",
      "name": "python3"
    },
    "language_info": {
      "codemirror_mode": {
        "name": "ipython",
        "version": 3
      },
      "file_extension": ".py",
      "mimetype": "text/x-python",
      "name": "python",
      "nbconvert_exporter": "python",
      "pygments_lexer": "ipython3",
      "version": "3.8.5"
    },
    "colab": {
      "name": "Copy of run.ipynb",
      "provenance": [],
      "collapsed_sections": [],
      "include_colab_link": true
    }
  },
  "cells": [
    {
      "cell_type": "markdown",
      "metadata": {
        "id": "view-in-github",
        "colab_type": "text"
      },
      "source": [
        "<a href=\"https://colab.research.google.com/github/LastBitcoiner/SubChiAi/blob/main/src/run.ipynb\" target=\"_parent\"><img src=\"https://colab.research.google.com/assets/colab-badge.svg\" alt=\"Open In Colab\"/></a>"
      ]
    },
    {
      "cell_type": "code",
      "metadata": {
        "id": "Mk0KmJhrmfmO"
      },
      "source": [
        "#\n",
        "#\n",
        "# TODO:\n",
        "# - read file data                TIK\n",
        "# - delete enters                 TIK\n",
        "# - read subtitle folders list\n",
        "# - split by \" \" and search in    TIK\n",
        "# - shomaresh                     TIK\n",
        "# - save dar csv     \n",
        "# - sort list by counting         TIK\n",
        "# - remove duplicate              TIK\n",
        "#\n",
        "#\n",
        "# - Optional : 1 july 2021\n",
        "# - write it to the picture for reading better or printing\n",
        "#\n",
        "#\n",
        "#"
      ],
      "execution_count": null,
      "outputs": []
    },
    {
      "cell_type": "code",
      "metadata": {
        "colab": {
          "base_uri": "https://localhost:8080/"
        },
        "id": "GkYHCHLVAHsJ",
        "outputId": "024f74c0-ac28-4016-dbba-c015c298c26a"
      },
      "source": [
        "# 4/1AX4XfWiYlYcc94KUzoii2Jqnstm9PFkij2393eeljTHNnDQCjWE4wyA_Jjs\n",
        "from google.colab import drive\n",
        "drive.mount('/content/drive')"
      ],
      "execution_count": 4,
      "outputs": [
        {
          "output_type": "stream",
          "text": [
            "Mounted at /content/drive\n"
          ],
          "name": "stdout"
        }
      ]
    },
    {
      "cell_type": "code",
      "metadata": {
        "id": "LJI8j_Eqmfmd"
      },
      "source": [
        "import pandas as pd"
      ],
      "execution_count": 1,
      "outputs": []
    },
    {
      "cell_type": "code",
      "metadata": {
        "id": "H-9g1ldpmfmh"
      },
      "source": [
        "# this block remove blank lines and replace enters with space\n",
        "def clean_file(filename):\n",
        "    lines = \"\"\n",
        "    with open(filename) as f:\n",
        "        for line in f:\n",
        "            if not line.strip(): continue  # skip the empty line\n",
        "            lines += line\n",
        "        return lines.replace(\"\\n\", \" \")"
      ],
      "execution_count": 2,
      "outputs": []
    },
    {
      "cell_type": "code",
      "metadata": {
        "id": "rwi3BNUTmfml"
      },
      "source": [
        "#test and track\n",
        "lines = clean_file(\"/content/drive/MyDrive/dataset.txt\")"
      ],
      "execution_count": 5,
      "outputs": []
    },
    {
      "cell_type": "code",
      "metadata": {
        "id": "8imckiPbmowM",
        "colab": {
          "base_uri": "https://localhost:8080/",
          "height": 35
        },
        "outputId": "27f89784-a4e6-4a61-b8ac-c52f22689021"
      },
      "source": [
        "# word filters\n",
        "\n",
        "common_prepositions = \"a the about above across after against among around at before behind below beside between by down during for from in inside into near of off on out over through to toward under up with\"\n",
        "common_prepositions = common_prepositions.split()\n",
        "\n",
        "less_comman_prepositions = \"aboard along amid as beneath beyond but concerning considering despite except following like minus next onto opposite outside past per plus regarding round save since than till underneath unlike until upon versus via within without\"\n",
        "less_comman_prepositions = less_comman_prepositions.split()\n",
        "\n",
        "full_perps = common_prepositions+less_comman_prepositions\n",
        "\n",
        "full_perps[30]"
      ],
      "execution_count": 13,
      "outputs": [
        {
          "output_type": "execute_result",
          "data": {
            "application/vnd.google.colaboratory.intrinsic+json": {
              "type": "string"
            },
            "text/plain": [
              "'to'"
            ]
          },
          "metadata": {
            "tags": []
          },
          "execution_count": 13
        }
      ]
    },
    {
      "cell_type": "code",
      "metadata": {
        "id": "pNzRv3KXmfmo"
      },
      "source": [
        "# define counter number of repeat every string \n",
        "def count_repeats(input_string):\n",
        "    \n",
        "    countdict = []\n",
        "    words = input_string.split() # list of words in a input string\n",
        "    for i in range(len(words)):\n",
        "    #   print(i)\n",
        "    #   print(lines.split()[i])\n",
        "        countdict.append([words[i],input_string.count(words[i])])\n",
        "\n",
        "        \n",
        "    return countdict"
      ],
      "execution_count": 7,
      "outputs": []
    },
    {
      "cell_type": "code",
      "metadata": {
        "id": "RmkLU9nkCLPW"
      },
      "source": [
        "#test and track\n",
        "words = count_repeats(lines)\n",
        "\n",
        "indexwords = []\n",
        "repeatwords = []\n",
        "\n",
        "for i in words:\n",
        "    indexwords.append(i[0])\n",
        "    repeatwords.append(i[1])\n"
      ],
      "execution_count": 95,
      "outputs": []
    },
    {
      "cell_type": "code",
      "metadata": {
        "id": "ZEfpZawNCwcO"
      },
      "source": [
        "def remove_member(member):\n",
        "  index = indexwords.index(member)\n",
        "  indexwords.remove(member)\n",
        "  del repeatwords[index]"
      ],
      "execution_count": 96,
      "outputs": []
    },
    {
      "cell_type": "code",
      "metadata": {
        "id": "gcc0w3i7FKN4"
      },
      "source": [
        "for i in indexwords:\n",
        "  if \"[\" in i and \"]\" in i or len(i) < 3: remove_member(i)"
      ],
      "execution_count": 97,
      "outputs": []
    },
    {
      "cell_type": "code",
      "metadata": {
        "id": "YnV7BQJQmfmq"
      },
      "source": [
        "# duplicator remover get a dict for input\n",
        "def remove_duplicates(wordslist):\n",
        "  pass\n",
        "# words = filter_list(words)"
      ],
      "execution_count": 8,
      "outputs": []
    },
    {
      "cell_type": "code",
      "metadata": {
        "colab": {
          "base_uri": "https://localhost:8080/",
          "height": 165
        },
        "id": "mc6iAasmBBDs",
        "outputId": "d79e7e30-a555-45b4-8fc9-e19e9a6138f4"
      },
      "source": [
        "words.index(full_perps[30])"
      ],
      "execution_count": 14,
      "outputs": [
        {
          "output_type": "error",
          "ename": "ValueError",
          "evalue": "ignored",
          "traceback": [
            "\u001b[0;31m---------------------------------------------------------------------------\u001b[0m",
            "\u001b[0;31mValueError\u001b[0m                                Traceback (most recent call last)",
            "\u001b[0;32m<ipython-input-14-8e6560ff40a0>\u001b[0m in \u001b[0;36m<module>\u001b[0;34m()\u001b[0m\n\u001b[0;32m----> 1\u001b[0;31m \u001b[0mwords\u001b[0m\u001b[0;34m.\u001b[0m\u001b[0mindex\u001b[0m\u001b[0;34m(\u001b[0m\u001b[0mfull_perps\u001b[0m\u001b[0;34m[\u001b[0m\u001b[0;36m30\u001b[0m\u001b[0;34m]\u001b[0m\u001b[0;34m)\u001b[0m\u001b[0;34m\u001b[0m\u001b[0;34m\u001b[0m\u001b[0m\n\u001b[0m",
            "\u001b[0;31mValueError\u001b[0m: 'to' is not in list"
          ]
        }
      ]
    },
    {
      "cell_type": "code",
      "metadata": {
        "scrolled": true,
        "id": "0nuCLHfnmfmu"
      },
      "source": [
        "#sort words value by \n",
        "def get_count(word):\n",
        "    return word[1]\n",
        "\n",
        "\n",
        "words.sort(key=get_count, reverse=True)"
      ],
      "execution_count": null,
      "outputs": []
    },
    {
      "cell_type": "code",
      "metadata": {
        "id": "8cYKTdNWmfmz"
      },
      "source": [
        "#seprate words and repeat numbers to dataframe\n",
        "\n",
        "indexwords = []\n",
        "repeatwords = []\n",
        "\n",
        "for i in words:\n",
        "    indexwords.append(i[0])\n",
        "    repeatwords.append(i[1])\n",
        "    \n",
        "myseri = pd.Series(repeatwords, index=indexwords)\n",
        "myseri.to_excel('saved_file.xlsx')"
      ],
      "execution_count": null,
      "outputs": []
    },
    {
      "cell_type": "code",
      "metadata": {
        "id": "l7btWkVqmfm3",
        "outputId": "e3db806c-48cf-48f5-d949-99225d853bf0"
      },
      "source": [
        "#save results in a csv file\n",
        "\n",
        "\n",
        "with open(\"hello.txt\", \"w\") as output:\n",
        "    for i in range(len(words)):\n",
        "        print(words[i])\n",
        "        output.write(words[i] + \"\\n\")"
      ],
      "execution_count": null,
      "outputs": [
        {
          "output_type": "stream",
          "text": [
            "['t', 1150]\n"
          ],
          "name": "stdout"
        },
        {
          "output_type": "error",
          "ename": "TypeError",
          "evalue": "can only concatenate list (not \"str\") to list",
          "traceback": [
            "\u001b[1;31m---------------------------------------------------------------------------\u001b[0m",
            "\u001b[1;31mTypeError\u001b[0m                                 Traceback (most recent call last)",
            "\u001b[1;32m<ipython-input-6-0dd0ec25432e>\u001b[0m in \u001b[0;36m<module>\u001b[1;34m\u001b[0m\n\u001b[0;32m      2\u001b[0m     \u001b[1;32mfor\u001b[0m \u001b[0mi\u001b[0m \u001b[1;32min\u001b[0m \u001b[0mrange\u001b[0m\u001b[1;33m(\u001b[0m\u001b[0mlen\u001b[0m\u001b[1;33m(\u001b[0m\u001b[0mwords\u001b[0m\u001b[1;33m)\u001b[0m\u001b[1;33m)\u001b[0m\u001b[1;33m:\u001b[0m\u001b[1;33m\u001b[0m\u001b[1;33m\u001b[0m\u001b[0m\n\u001b[0;32m      3\u001b[0m         \u001b[0mprint\u001b[0m\u001b[1;33m(\u001b[0m\u001b[0mwords\u001b[0m\u001b[1;33m[\u001b[0m\u001b[0mi\u001b[0m\u001b[1;33m]\u001b[0m\u001b[1;33m)\u001b[0m\u001b[1;33m\u001b[0m\u001b[1;33m\u001b[0m\u001b[0m\n\u001b[1;32m----> 4\u001b[1;33m         \u001b[0moutput\u001b[0m\u001b[1;33m.\u001b[0m\u001b[0mwrite\u001b[0m\u001b[1;33m(\u001b[0m\u001b[0mwords\u001b[0m\u001b[1;33m[\u001b[0m\u001b[0mi\u001b[0m\u001b[1;33m]\u001b[0m \u001b[1;33m+\u001b[0m \u001b[1;34m\"\\n\"\u001b[0m\u001b[1;33m)\u001b[0m\u001b[1;33m\u001b[0m\u001b[1;33m\u001b[0m\u001b[0m\n\u001b[0m",
            "\u001b[1;31mTypeError\u001b[0m: can only concatenate list (not \"str\") to list"
          ]
        }
      ]
    },
    {
      "cell_type": "code",
      "metadata": {
        "id": "ZD5HgCiDmfm-",
        "outputId": "507599bb-581f-4ac9-b36f-953536827304"
      },
      "source": [
        "# newwords = ' '.join(str(e) for e in words)\n",
        "\n",
        "#newlwords = list(dict.fromkeys(str(e) for e in words))\n",
        "#list(newlwords[0])\n",
        "\n",
        "res = []\n",
        "[res.append(x) for x in words if x not in res]\n",
        "len(res)\n",
        "\n",
        "#newwords.split()"
      ],
      "execution_count": null,
      "outputs": [
        {
          "output_type": "execute_result",
          "data": {
            "text/plain": [
              "667"
            ]
          },
          "metadata": {
            "tags": []
          },
          "execution_count": 44
        }
      ]
    },
    {
      "cell_type": "code",
      "metadata": {
        "id": "wza0WBP9mfnA",
        "outputId": "11c4759f-9cdf-43a8-d817-1390809b5a52"
      },
      "source": [
        "len(newlwords)"
      ],
      "execution_count": null,
      "outputs": [
        {
          "output_type": "execute_result",
          "data": {
            "text/plain": [
              "674"
            ]
          },
          "metadata": {
            "tags": []
          },
          "execution_count": 37
        }
      ]
    },
    {
      "cell_type": "code",
      "metadata": {
        "id": "_w6VsXuvmfnB"
      },
      "source": [
        ""
      ],
      "execution_count": null,
      "outputs": []
    }
  ]
}