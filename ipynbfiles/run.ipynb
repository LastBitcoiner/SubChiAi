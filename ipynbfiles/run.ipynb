{
 "cells": [
  {
   "cell_type": "code",
   "execution_count": 76,
   "metadata": {},
   "outputs": [],
   "source": [
    "#\n",
    "#\n",
    "# TODO:\n",
    "# - read file data                TIK\n",
    "# - delete enters                 TIK\n",
    "# - read subtitle folders list\n",
    "# - split by \" \" and search in    TIK\n",
    "# - shomaresh                     TIK\n",
    "# - save dar csv     \n",
    "# - sort list by counting         TIK\n",
    "# - remove duplicate              TIK\n",
    "#\n",
    "#\n",
    "# - Optional : 1 july 2021\n",
    "# - write it to the picture for reading better or printing\n",
    "#\n",
    "#\n",
    "#"
   ]
  },
  {
   "cell_type": "code",
   "execution_count": 54,
   "metadata": {},
   "outputs": [],
   "source": [
    "# this block remove blank lines and replace enters with space\n",
    "def clean_file(filename):\n",
    "    lines = \"\"\n",
    "    with open(filename) as f:\n",
    "        for line in f:\n",
    "            if not line.strip(): continue  # skip the empty line\n",
    "            lines += line\n",
    "        return lines.replace(\"\\n\", \" \")"
   ]
  },
  {
   "cell_type": "code",
   "execution_count": 55,
   "metadata": {},
   "outputs": [],
   "source": [
    "#test and track\n",
    "lines = clean_file(\"dataset.txt\")"
   ]
  },
  {
   "cell_type": "code",
   "execution_count": 56,
   "metadata": {},
   "outputs": [],
   "source": [
    "# define counter number of repeat every string \n",
    "def count_repeats(input_string):\n",
    "    \n",
    "    countdict = []\n",
    "    words = input_string.split() # list of words in a input string\n",
    "    for i in range(len(words)):\n",
    "    #   print(i)\n",
    "    #   print(lines.split()[i])\n",
    "        countdict.append([words[i],input_string.count(words[i])])\n",
    "\n",
    "        \n",
    "    return countdict"
   ]
  },
  {
   "cell_type": "code",
   "execution_count": 59,
   "metadata": {},
   "outputs": [],
   "source": [
    "#test and track\n",
    "words = count_repeats(lines)\n",
    "\n",
    "\n",
    "#function shomaresh bar asase lentgh\n",
    "def get_count_by_length(word):\n",
    "    return len(word[0])\n",
    "\n",
    "\n",
    "#function filter 1 case words and [] words and remove them\n",
    "def filter_list(words):\n",
    "    \n",
    "    \n",
    "    #remove [] words\n",
    "    if \"[\" in words[0][0] and \"]\" in words[0][0]: words.remove(words[0])\n",
    "    last = len(words)-1\n",
    "    if \"[\" in words[last][0] and \"]\" in words[last][0]: words.remove(words[last])\n",
    "        \n",
    "        \n",
    "    #remove 1 case words\n",
    "    while True:\n",
    "        i=0\n",
    "        words.sort(key=get_count_by_length)\n",
    "        \n",
    "\n",
    "        if len(words[i][0]) == 1 :\n",
    "            words.remove(words[i])\n",
    "            i = i+1\n",
    "        else: break\n",
    "            \n",
    "            \n",
    "    #remove repeted cells\n",
    "    res = []\n",
    "    [res.append(x) for x in words if x not in res]\n",
    "    \n",
    "    return res\n",
    "    \n",
    "words = filter_list(words)"
   ]
  },
  {
   "cell_type": "code",
   "execution_count": 75,
   "metadata": {
    "scrolled": true
   },
   "outputs": [],
   "source": [
    "#sort words value by \n",
    "def get_count(word):\n",
    "    return word[1]\n",
    "\n",
    "\n",
    "words.sort(key=get_count, reverse=True)"
   ]
  },
  {
   "cell_type": "code",
   "execution_count": 6,
   "metadata": {},
   "outputs": [
    {
     "name": "stdout",
     "output_type": "stream",
     "text": [
      "['t', 1150]\n"
     ]
    },
    {
     "ename": "TypeError",
     "evalue": "can only concatenate list (not \"str\") to list",
     "output_type": "error",
     "traceback": [
      "\u001b[1;31m---------------------------------------------------------------------------\u001b[0m",
      "\u001b[1;31mTypeError\u001b[0m                                 Traceback (most recent call last)",
      "\u001b[1;32m<ipython-input-6-0dd0ec25432e>\u001b[0m in \u001b[0;36m<module>\u001b[1;34m\u001b[0m\n\u001b[0;32m      2\u001b[0m     \u001b[1;32mfor\u001b[0m \u001b[0mi\u001b[0m \u001b[1;32min\u001b[0m \u001b[0mrange\u001b[0m\u001b[1;33m(\u001b[0m\u001b[0mlen\u001b[0m\u001b[1;33m(\u001b[0m\u001b[0mwords\u001b[0m\u001b[1;33m)\u001b[0m\u001b[1;33m)\u001b[0m\u001b[1;33m:\u001b[0m\u001b[1;33m\u001b[0m\u001b[1;33m\u001b[0m\u001b[0m\n\u001b[0;32m      3\u001b[0m         \u001b[0mprint\u001b[0m\u001b[1;33m(\u001b[0m\u001b[0mwords\u001b[0m\u001b[1;33m[\u001b[0m\u001b[0mi\u001b[0m\u001b[1;33m]\u001b[0m\u001b[1;33m)\u001b[0m\u001b[1;33m\u001b[0m\u001b[1;33m\u001b[0m\u001b[0m\n\u001b[1;32m----> 4\u001b[1;33m         \u001b[0moutput\u001b[0m\u001b[1;33m.\u001b[0m\u001b[0mwrite\u001b[0m\u001b[1;33m(\u001b[0m\u001b[0mwords\u001b[0m\u001b[1;33m[\u001b[0m\u001b[0mi\u001b[0m\u001b[1;33m]\u001b[0m \u001b[1;33m+\u001b[0m \u001b[1;34m\"\\n\"\u001b[0m\u001b[1;33m)\u001b[0m\u001b[1;33m\u001b[0m\u001b[1;33m\u001b[0m\u001b[0m\n\u001b[0m",
      "\u001b[1;31mTypeError\u001b[0m: can only concatenate list (not \"str\") to list"
     ]
    }
   ],
   "source": [
    "with open(\"hello.txt\", \"w\") as output:\n",
    "    for i in range(len(words)):\n",
    "        print(words[i])\n",
    "        output.write(words[i] + \"\\n\")"
   ]
  },
  {
   "cell_type": "code",
   "execution_count": 44,
   "metadata": {},
   "outputs": [
    {
     "data": {
      "text/plain": [
       "667"
      ]
     },
     "execution_count": 44,
     "metadata": {},
     "output_type": "execute_result"
    }
   ],
   "source": [
    "# newwords = ' '.join(str(e) for e in words)\n",
    "\n",
    "#newlwords = list(dict.fromkeys(str(e) for e in words))\n",
    "#list(newlwords[0])\n",
    "\n",
    "res = []\n",
    "[res.append(x) for x in words if x not in res]\n",
    "len(res)\n",
    "\n",
    "#newwords.split()"
   ]
  },
  {
   "cell_type": "code",
   "execution_count": 37,
   "metadata": {},
   "outputs": [
    {
     "data": {
      "text/plain": [
       "674"
      ]
     },
     "execution_count": 37,
     "metadata": {},
     "output_type": "execute_result"
    }
   ],
   "source": [
    "len(newlwords)"
   ]
  },
  {
   "cell_type": "code",
   "execution_count": null,
   "metadata": {},
   "outputs": [],
   "source": []
  }
 ],
 "metadata": {
  "kernelspec": {
   "display_name": "Python 3",
   "language": "python",
   "name": "python3"
  },
  "language_info": {
   "codemirror_mode": {
    "name": "ipython",
    "version": 3
   },
   "file_extension": ".py",
   "mimetype": "text/x-python",
   "name": "python",
   "nbconvert_exporter": "python",
   "pygments_lexer": "ipython3",
   "version": "3.8.5"
  }
 },
 "nbformat": 4,
 "nbformat_minor": 4
}
