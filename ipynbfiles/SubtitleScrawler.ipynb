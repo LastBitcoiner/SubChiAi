{
 "cells": [
  {
   "cell_type": "code",
   "execution_count": 25,
   "metadata": {},
   "outputs": [],
   "source": [
    "#import urllib for push requests and lxml to navigate html file\n",
    "import urllib3\n",
    "import json\n",
    "from lxml import html"
   ]
  },
  {
   "cell_type": "code",
   "execution_count": 35,
   "metadata": {},
   "outputs": [
    {
     "name": "stdout",
     "output_type": "stream",
     "text": [
      "b'{\"url\": \"https://www.youtube.com/watch?v=fbmRTIke2mQ\"}'\n"
     ]
    },
    {
     "data": {
      "text/plain": [
       "b'{\"message\":\"NO_LINKS\",\"error\":1}'"
      ]
     },
     "execution_count": 35,
     "metadata": {},
     "output_type": "execute_result"
    }
   ],
   "source": [
    "# function that request to the sub page\n",
    "def init_sub(vidlink=\"https://www.youtube.com/watch?v=fbmRTIke2mQ\"):\n",
    "    encoded_body = json.dumps({\n",
    "        \"url\": vidlink,\n",
    "    }).encode('utf-8')\n",
    "    http = urllib3.PoolManager()\n",
    "    uri= \"https://savesubs.com/action/get\"\n",
    "    \n",
    "    print(encoded_body)\n",
    "    r = http.request('POST', uri,\n",
    "                 headers={'Content-Type': 'application/json'},\n",
    "                 body=encoded_body)\n",
    "    return r.data\n",
    "\n",
    "page_html = init_sub()\n",
    "page_html"
   ]
  },
  {
   "cell_type": "code",
   "execution_count": 24,
   "metadata": {
    "collapsed": true
   },
   "outputs": [
    {
     "name": "stdout",
     "output_type": "stream",
     "text": [
      "b'<!DOCTYPE html>\\n<html lang=\"en\">\\n<head>\\n<meta charset=\"UTF-8\">\\n<meta name=\"viewport\" content=\"width=device-width, initial-scale=1.0, minimum-scale=1.0\">\\n<meta http-equiv=\"X-UA-Compatible\" content=\"ie=edge\">\\n<title>Download Subtitles From Youtube, Facebook, Viki, Dailymotion & more</title>\\n<meta name=\"description\" content=\"Check out the fastest way to download subtitles from dozens of websites which include Youtube, Dailymotion, Facebook, Viki and many more\">\\n<link rel=\"canonical\" href=\"https://savesubs.com/\" />\\n<meta property=\"og:title\" content=\"Download Subtitles From Youtube, Facebook, Viki, Dailymotion & more\" />\\n<meta property=\"og:type\" content=\"website\" />\\n<meta property=\"og:image\" content=\"https://savesubs.com/images/desktop.png\">\\n<meta property=\"twitter:image\" content=\"https://savesubs.com/images/desktop.png\">\\n<link rel=\"shortcut icon\" href=\"https://savesubs.com/images/favicon.ico\">\\n<link rel=\"alternate\" hreflang=\"x-default\" href=\"https://savesubs.com/\">\\n<link rel=\"alternate\" hreflang=\"en\" href=\"https://savesubs.com/\" />\\n<link rel=\"alternate\" hreflang=\"hi\" href=\"https://savesubs.com/hi\" />\\n<link rel=\"alternate\" hreflang=\"ar\" href=\"https://savesubs.com/ar\" />\\n<link rel=\"alternate\" hreflang=\"bn\" href=\"https://savesubs.com/bn\" />\\n<link rel=\"alternate\" hreflang=\"de\" href=\"https://savesubs.com/de\" />\\n<link rel=\"alternate\" hreflang=\"es\" href=\"https://savesubs.com/es\" />\\n<link rel=\"alternate\" hreflang=\"fr\" href=\"https://savesubs.com/fr\" />\\n<link rel=\"alternate\" hreflang=\"pt\" href=\"https://savesubs.com/pt\" />\\n<link rel=\"alternate\" hreflang=\"id\" href=\"https://savesubs.com/id\" />\\n<link rel=\"alternate\" hreflang=\"it\" href=\"https://savesubs.com/it\" />\\n<link rel=\"alternate\" hreflang=\"ja\" href=\"https://savesubs.com/ja\" />\\n<link rel=\"alternate\" hreflang=\"ko\" href=\"https://savesubs.com/ko\" />\\n<link rel=\"alternate\" hreflang=\"ne\" href=\"https://savesubs.com/ne\" />\\n<link rel=\"alternate\" hreflang=\"nl\" href=\"https://savesubs.com/nl\" />\\n<link rel=\"alternate\" hreflang=\"pa\" href=\"https://savesubs.com/pa\" />\\n<link rel=\"alternate\" hreflang=\"ru\" href=\"https://savesubs.com/ru\" />\\n<link rel=\"alternate\" hreflang=\"ta\" href=\"https://savesubs.com/ta\" />\\n<link rel=\"alternate\" hreflang=\"te\" href=\"https://savesubs.com/te\" />\\n<link rel=\"alternate\" hreflang=\"th\" href=\"https://savesubs.com/th\" />\\n<link rel=\"alternate\" hreflang=\"tr\" href=\"https://savesubs.com/tr\" />\\n<link rel=\"alternate\" hreflang=\"ur\" href=\"https://savesubs.com/ur\" />\\n<link rel=\"alternate\" hreflang=\"vi\" href=\"https://savesubs.com/vi\" />\\n<link rel=\"alternate\" hreflang=\"zh\" href=\"https://savesubs.com/zh\" />\\n<link rel=\"apple-touch-icon\" sizes=\"180x180\" href=\"/images/apple-touch-icon.png\">\\n<link rel=\"icon\" type=\"image/png\" sizes=\"32x32\" href=\"/images/favicon-32x32.png\">\\n<link rel=\"icon\" type=\"image/png\" sizes=\"16x16\" href=\"/images/favicon-16x16.png\">\\n<link rel=\"mask-icon\" href=\"/images/safari-pinned-tab.svg\" color=\"#5bbad5\">\\n<meta name=\"apple-mobile-web-app-title\" content=\"Save Subs\">\\n<meta name=\"application-name\" content=\"Save Subs\">\\n<meta name=\"msapplication-TileColor\" content=\"#9f00a7\">\\n<meta name=\"msapplication-config\" content=\"/images/browserconfig.xml\">\\n<meta name=\"theme-color\" content=\"#7886d7\">\\n<link rel=\"manifest\" href=\"/manifest.json\">\\n<link rel=\"stylesheet\" href=\"/build/bundle-80ea6f85b8e30ea71661.css\">\\n<script async src=\\'/cdn-cgi/bm/cv/669835187/api.js\\'></script></head>\\n<body class=\"bg-white font-sans \">\\n<section id=\"root\">\\n<noscript>\\n        You need to enable JavaScript to run this app.\\n    </noscript>\\n<header class=\"container mx-auto border-b border-grey-light px-2 py-4 text-center sm:px-4 sm:flex sm:items-center sm:justify-between\">\\n<a href=\"/\">\\n<img src=\"/images/logo.png\" alt=\"Savesubs Main LOGO\" width=\"240\" height=\"60\" />\\n</a>\\n<div class=\"flex justify-center mt-4 sm:mt-0\">\\n<a class=\"header_nav\" href=\"/\">\\nHome </a>\\n<a class=\"header_nav\" href=\"/sites\">\\nAdded Sites </a>\\n<a class=\"header_nav\" href=\"/support\">\\nSupport </a>\\n</div>\\n</header>\\n<main>\\n<div class=\"preloader\">\\n<div class=\"spinner\"></div>\\n<p>Please wait...</p>\\n</div>\\n</main>\\n<footer class=\"container mx-auto leading-normal px-4 py-6 border-t border-grey-light text-center md:flex md:justify-between uppercase\">\\n<div class=\"night-white text-black-light\">\\n\\xc2\\xa9 2018 - 2021 SaveSubs\\n</div>\\n</footer>\\n</section>\\n<script type=\"text/javascript\">(function(){window[\\'__CF$cv$params\\']={r:\\'64fc666c3c24d70d\\',m:\\'874232c5ca7742f35339c857e9f421aa0df1de54-1621082062-1800-AavwBV9pI9ct9ilZMv/SDi9C/9VyrUmZMhYj3QIeOWObwfY/iSPcg74ewJe7GaOVsbAXAmSSzCSIoC9O7xcZd2Kop0qWFkjJPLUs1yY2vi7S8r65QVhBczyV9THP5QAHIXw6VDVegfSD8xbDgCLZdm0QfmxZMYfgp0dMJ8FL3NhxlUGlsdun0OTPbuQW8i40VPTSqsf1/xoakRMS9IB0Hek=\\',s:[0x10c170cf57,0x47b0554366],}})();</script></body>\\n<script type=\"72e000e9c3af5f7bef1d4aca-text/javascript\">\\n    window.__INIT__ = {\"locale\":{\"code\":\"en\",\"name\":\"english\",\"dir\":\"ltr\"},\"localeData\":{\"default\":true},\"langs\":[{\"name\":\"english\",\"dir\":\"ltr\",\"code\":\"en\"},{\"name\":\"\\\\u0939\\\\u093f\\\\u0928\\\\u094d\\\\u0926\\\\u0940\",\"dir\":\"ltr\",\"code\":\"hi\"},{\"name\":\"\\\\u0639\\\\u0631\\\\u0628\\\\u0649\",\"dir\":\"rtl\",\"code\":\"ar\"},{\"name\":\"\\\\u09ac\\\\u09be\\\\u0999\\\\u09be\\\\u09b2\\\\u09bf\",\"dir\":\"ltr\",\"code\":\"bn\"},{\"name\":\"deutsch\",\"dir\":\"ltr\",\"code\":\"de\"},{\"name\":\"espa\\\\u00f1ol\",\"dir\":\"ltr\",\"code\":\"es\"},{\"name\":\"fran\\\\u00e7ais\",\"dir\":\"ltr\",\"code\":\"fr\"},{\"name\":\"Portugu\\\\u00eas\",\"dir\":\"ltr\",\"code\":\"pt\"},{\"name\":\"indonesian\",\"dir\":\"ltr\",\"code\":\"id\"},{\"name\":\"italiano\",\"dir\":\"ltr\",\"code\":\"it\"},{\"name\":\"\\\\u65e5\\\\u672c\\\\u8a9e\",\"dir\":\"ltr\",\"code\":\"ja\"},{\"name\":\"\\\\ud55c\\\\uad6d\\\\uc5b4\",\"dir\":\"ltr\",\"code\":\"ko\"},{\"name\":\"\\\\u0928\\\\u0947\\\\u092a\\\\u093e\\\\u0932\\\\u0940\",\"dir\":\"ltr\",\"code\":\"ne\"},{\"name\":\"dutch\",\"dir\":\"ltr\",\"code\":\"nl\"},{\"name\":\"\\\\u0a2a\\\\u0a70\\\\u0a1c\\\\u0a3e\\\\u0a2c\\\\u0a40\",\"dir\":\"ltr\",\"code\":\"pa\"},{\"name\":\"\\\\u0440\\\\u0443\\\\u0441\\\\u0441\\\\u043a\\\\u0438\\\\u0439\",\"dir\":\"ltr\",\"code\":\"ru\"},{\"name\":\"\\\\u0ba4\\\\u0bae\\\\u0bbf\\\\u0bb4\\\\u0bcd\",\"dir\":\"ltr\",\"code\":\"ta\"},{\"name\":\"\\\\u0c24\\\\u0c46\\\\u0c32\\\\u0c41\\\\u0c17\\\\u0c41\",\"dir\":\"ltr\",\"code\":\"te\"},{\"name\":\"\\\\u0e44\\\\u0e17\\\\u0e22\",\"dir\":\"ltr\",\"code\":\"th\"},{\"name\":\"T\\\\u00fcrk\",\"dir\":\"ltr\",\"code\":\"tr\"},{\"name\":\"\\\\u0627\\\\u0631\\\\u062f\\\\u0648\",\"dir\":\"rtl\",\"code\":\"ur\"},{\"name\":\"Ti\\\\u1ebfng Vi\\\\u1ec7t\",\"dir\":\"ltr\",\"code\":\"vi\"},{\"name\":\"\\\\u4e2d\\\\u6587\",\"dir\":\"ltr\",\"code\":\"zh\"}],\"sites\":[{\"name\":\"twitter\",\"type\":\"others\",\"domain\":\"twitter.com\"},{\"name\":\"downsub\",\"type\":\"others\",\"domain\":\"downsub.com\"},{\"name\":\"lilsubs\",\"type\":\"others\",\"domain\":\"lilsubs.com\"},{\"name\":\"youtube\",\"type\":\"subs\",\"domain\":\"youtube.com\"},{\"name\":\"kocowa\",\"type\":\"subs\",\"domain\":\"kocowa.com\"},{\"name\":\"vimeo\",\"type\":\"subs\",\"domain\":\"vimeo.com\"},{\"name\":\"facebook\",\"type\":\"subs\",\"domain\":\"facebook.com\"},{\"name\":\"viki\",\"type\":\"subs\",\"domain\":\"viki.com\"},{\"name\":\"dailymotion\",\"type\":\"subs\",\"domain\":\"dailymotion.com\"},{\"name\":\"yousubtitles\",\"type\":\"others\",\"domain\":\"yousubtitles.com\"},{\"name\":\"youtu\",\"type\":\"subs\",\"domain\":\"youtu.be\"}],\"isMobile\":false,\"googleKey\":\"6LcurWEUAAAAAKlqWC-AgByg6-vVcOOl-CCxQmaS\",\"ts\":1621081062,\"dkey_1\":\"3d6f476269394b5a6d35\",\"dkey_2\":\"716f6c65355971534a7173754a715665745a\",\"agent\":\"\",\"darkMode\":-1,\"userSettings\":false,\"version\":\"80ea6f85b8e30ea71661\",\"isMessageShown\":0,\"isGlLoaded\":false,\"onpush\":\"\\\\/\\\\/trapsaminohut.com\\\\/1clkn\\\\/13563\",\"onpage\":\"\\\\/\\\\/deligrassdull.com\\\\/f7xG00dEmAjIhRem\\\\/26186\"}</script>\\n<script src=\"/build/vendors~bundle-80ea6f85b8e30ea71661.js\" type=\"72e000e9c3af5f7bef1d4aca-text/javascript\"></script>\\n<script src=\"/build/bundle-80ea6f85b8e30ea71661.js\" type=\"72e000e9c3af5f7bef1d4aca-text/javascript\"></script>\\n<script src=\"https://ajax.cloudflare.com/cdn-cgi/scripts/7d0fa10a/cloudflare-static/rocket-loader.min.js\" data-cf-settings=\"72e000e9c3af5f7bef1d4aca-|49\" defer=\"\"></script></html>\\n'\n",
      "https://savesubs.com/\n",
      "https://savesubs.com/images/favicon.ico\n",
      "https://savesubs.com/\n",
      "https://savesubs.com/\n",
      "https://savesubs.com/hi\n",
      "https://savesubs.com/ar\n",
      "https://savesubs.com/bn\n",
      "https://savesubs.com/de\n",
      "https://savesubs.com/es\n",
      "https://savesubs.com/fr\n",
      "https://savesubs.com/pt\n",
      "https://savesubs.com/id\n",
      "https://savesubs.com/it\n",
      "https://savesubs.com/ja\n",
      "https://savesubs.com/ko\n",
      "https://savesubs.com/ne\n",
      "https://savesubs.com/nl\n",
      "https://savesubs.com/pa\n",
      "https://savesubs.com/ru\n",
      "https://savesubs.com/ta\n",
      "https://savesubs.com/te\n",
      "https://savesubs.com/th\n",
      "https://savesubs.com/tr\n",
      "https://savesubs.com/ur\n",
      "https://savesubs.com/vi\n",
      "https://savesubs.com/zh\n",
      "/images/apple-touch-icon.png\n",
      "/images/favicon-32x32.png\n",
      "/images/favicon-16x16.png\n",
      "/images/safari-pinned-tab.svg\n",
      "/manifest.json\n",
      "/build/bundle-80ea6f85b8e30ea71661.css\n"
     ]
    }
   ],
   "source": [
    "#function find subtitle text link with lxml\n",
    "def find_link(page_html):\n",
    "    print(page_html)\n",
    "    data_string = page_html.decode('utf-8', errors='ignore')\n",
    "        # We instantiate a tree object from the HTML\n",
    "    tree = html.fromstring(data_string)\n",
    "    # We run the XPath against this HTML\n",
    "    # This returns an array of element\n",
    "    links = tree.xpath('//link')\n",
    "    for link in links:\n",
    "        # For each element we can easily get back the URL\n",
    "        print(link.get('href'))\n",
    "        \n",
    "find_link(page_html)"
   ]
  },
  {
   "cell_type": "code",
   "execution_count": null,
   "metadata": {},
   "outputs": [],
   "source": []
  }
 ],
 "metadata": {
  "kernelspec": {
   "display_name": "Python 3",
   "language": "python",
   "name": "python3"
  },
  "language_info": {
   "codemirror_mode": {
    "name": "ipython",
    "version": 3
   },
   "file_extension": ".py",
   "mimetype": "text/x-python",
   "name": "python",
   "nbconvert_exporter": "python",
   "pygments_lexer": "ipython3",
   "version": "3.8.5"
  }
 },
 "nbformat": 4,
 "nbformat_minor": 4
}
